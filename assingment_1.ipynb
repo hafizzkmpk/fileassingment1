{
  "nbformat": 4,
  "nbformat_minor": 0,
  "metadata": {
    "colab": {
      "name": "assingment_1.ipynb",
      "provenance": [],
      "collapsed_sections": [
        "DL_6TkDmjC4E",
        "gpZ96rQTjZIW",
        "4vuFU3K_iIKF",
        "QmAsR8CDkGTQ",
        "q7JxFlKfkVHg",
        "NJ3z-WlSi0sD",
        "Mp5hQoFDkv6u",
        "PDtB1elBk50h",
        "8UA98zjUlLjh",
        "YscGCJ_wlsAY",
        "3BT-lK2Zl_3r",
        "wu1WWs2hocB3",
        "65N41e1jom5j"
      ],
      "authorship_tag": "ABX9TyOUFgojYOMP0iSNC7PFS2+Y",
      "include_colab_link": true
    },
    "kernelspec": {
      "name": "python3",
      "display_name": "Python 3"
    },
    "language_info": {
      "name": "python"
    }
  },
  "cells": [
    {
      "cell_type": "markdown",
      "metadata": {
        "id": "view-in-github",
        "colab_type": "text"
      },
      "source": [
        "<a href=\"https://colab.research.google.com/github/mhhussin/fileassingment1/blob/main/assingment_1.ipynb\" target=\"_parent\"><img src=\"https://colab.research.google.com/assets/colab-badge.svg\" alt=\"Open In Colab\"/></a>"
      ]
    },
    {
      "cell_type": "markdown",
      "source": [
        "#**Assingment 1**\n",
        "\n",
        "\n",
        "---\n",
        "\n",
        "\n",
        "Muhammad Hafiezul Hafizz Bin Hussin\n",
        "\n",
        "unu2200034@student.unitar.my"
      ],
      "metadata": {
        "id": "rd1f8n3_gX0V"
      }
    },
    {
      "cell_type": "code",
      "source": [
        "import numpy as np\n",
        "import pandas as pd\n",
        "import matplotlib.pyplot as plt\n"
      ],
      "metadata": {
        "id": "gmQUMSd9g5CC"
      },
      "execution_count": 1,
      "outputs": []
    },
    {
      "cell_type": "markdown",
      "source": [
        "#**1. Import data in the dataset into pandas data frame and show the first 8 rows**"
      ],
      "metadata": {
        "id": "gpZ96rQTjZIW"
      }
    },
    {
      "cell_type": "code",
      "source": [
        "\n",
        "url='https://github.com/mhhussin/fileassingment1/raw/main/cereals.csv'\n",
        "df = pd.read_csv(url)\n",
        "print(df.head(8))"
      ],
      "metadata": {
        "id": "XmesdVSKkdQe",
        "colab": {
          "base_uri": "https://localhost:8080/"
        },
        "outputId": "c22e7b6e-0cb0-4165-aec1-4a5e7f201f6c"
      },
      "execution_count": 2,
      "outputs": [
        {
          "output_type": "stream",
          "name": "stdout",
          "text": [
            "                 Cereal name Supplier Cold or Hot  ...  potass  vitamins     rating\n",
            "0                  100%_Bran        N           C  ...   280.0        25  68.402973\n",
            "1          100%_Natural_Bran        Q           C  ...   135.0         0  33.983679\n",
            "2                   All-Bran        K           C  ...   320.0        25  59.425505\n",
            "3  All-Bran_with_Extra_Fiber        K           C  ...   330.0        25  93.704912\n",
            "4             Almond_Delight        R           C  ...     NaN        25  34.384843\n",
            "5    Apple_Cinnamon_Cheerios        G           C  ...    70.0        25  29.509541\n",
            "6                Apple_Jacks        K           C  ...    30.0        25  33.174094\n",
            "7                    Basic_4        G           C  ...   100.0        25  37.038562\n",
            "\n",
            "[8 rows x 13 columns]\n"
          ]
        }
      ]
    },
    {
      "cell_type": "markdown",
      "source": [
        "#**2. Determine the number of record in the datasets**"
      ],
      "metadata": {
        "id": "QmAsR8CDkGTQ"
      }
    },
    {
      "cell_type": "code",
      "source": [
        "#method 1, using len()\n",
        "print('The number of records in the dataset =',len(df))"
      ],
      "metadata": {
        "colab": {
          "base_uri": "https://localhost:8080/"
        },
        "id": "2pi5DFv_pTox",
        "outputId": "47572a49-0a5f-44dc-eef8-449a6be4889e"
      },
      "execution_count": null,
      "outputs": [
        {
          "output_type": "stream",
          "name": "stdout",
          "text": [
            "The number of records in the dataset = 77\n"
          ]
        }
      ]
    },
    {
      "cell_type": "code",
      "source": [
        "#method 2, using index and size\n",
        "print('The number of records in the dataset =',df.index.size)"
      ],
      "metadata": {
        "colab": {
          "base_uri": "https://localhost:8080/"
        },
        "id": "9__dB6YkibJO",
        "outputId": "d0b2520e-db3e-4c67-d89e-9fd4e33871ff"
      },
      "execution_count": null,
      "outputs": [
        {
          "output_type": "stream",
          "name": "stdout",
          "text": [
            "The number of records in the dataset = 77\n"
          ]
        }
      ]
    },
    {
      "cell_type": "markdown",
      "source": [
        "#**3.Show the data type of the coloumns in the dataframe**"
      ],
      "metadata": {
        "id": "q7JxFlKfkVHg"
      }
    },
    {
      "cell_type": "code",
      "source": [
        "\n",
        "df.info()\n"
      ],
      "metadata": {
        "id": "iYQBTm_Jl2Ze"
      },
      "execution_count": null,
      "outputs": []
    },
    {
      "cell_type": "markdown",
      "source": [
        "#**4. Add a caculated column 'totalcarbo' which is the sum of carbo and sugar**"
      ],
      "metadata": {
        "id": "NJ3z-WlSi0sD"
      }
    },
    {
      "cell_type": "code",
      "source": [
        "df['totalcarbo']=df['carbo']+df['sugars']     #creating a new column called as totalcarbo\n",
        "                                              #display of columns carbo,sugar and total carbo to verify the the operation runs correctly\n",
        "df[['carbo','sugars','totalcarbo']].head(10)  #only display the first 10 elements     "
      ],
      "metadata": {
        "id": "ZmQbs8MnVxGJ"
      },
      "execution_count": null,
      "outputs": []
    },
    {
      "cell_type": "markdown",
      "source": [
        "#**5.Identify the number of 'cold' cereal in the dataframe'**"
      ],
      "metadata": {
        "id": "Mp5hQoFDkv6u"
      }
    },
    {
      "cell_type": "code",
      "source": [
        "cold_cereal= df[df['Cold or Hot']=='C']                 # selecting rows with C values for Cold or Hot columns\n",
        "print('The number of cod cereal is =',len(cold_cereal)) # get the number of cold cereals in the dataframe"
      ],
      "metadata": {
        "colab": {
          "base_uri": "https://localhost:8080/"
        },
        "id": "LVviDp8wWwKM",
        "outputId": "492857f3-83b1-48cb-b42c-cfcd24388b92"
      },
      "execution_count": null,
      "outputs": [
        {
          "output_type": "stream",
          "name": "stdout",
          "text": [
            "The number of cod cereal is = 74\n"
          ]
        }
      ]
    },
    {
      "cell_type": "markdown",
      "source": [
        "#**6. Identify the number of suppliers in the datasets**"
      ],
      "metadata": {
        "id": "PDtB1elBk50h"
      }
    },
    {
      "cell_type": "code",
      "source": [
        "df_supplier=df.groupby('Supplier')['Supplier'].count() # group the dataset by supplier name\n",
        "df_supplier                                            # then count the number supplier in the dataset\n"
      ],
      "metadata": {
        "id": "zrIAVUtCX-dq"
      },
      "execution_count": null,
      "outputs": []
    },
    {
      "cell_type": "code",
      "source": [
        "num_of_supplier= df_supplier.index.size     #get the size from the number of records in df_supplier\n",
        "                                            #store the number in num_of_supplier\n",
        "                                            #another way we couuld use len(df_supplier) to get the number fo supplier\n",
        "print('The number of supplier the the dataset =',num_of_supplier)"
      ],
      "metadata": {
        "id": "UfRUUHgGdV_l"
      },
      "execution_count": null,
      "outputs": []
    },
    {
      "cell_type": "markdown",
      "source": [
        "#**7. Create another data frame containing all cereals whose 'carbo' is between 5 and 10 units inclusive**"
      ],
      "metadata": {
        "id": "8UA98zjUlLjh"
      }
    },
    {
      "cell_type": "code",
      "source": [
        "df_5To10_carbo=pd.DataFrame(df[(df['carbo']>=5) & (df['carbo']<=10)]) #creating new dataframe from the original df \n",
        "                                                                      #selecting only the record with the carbo value between 5 to 10\n",
        "print('There are',df_5To10_carbo.index.size,'records with carbo between 5 to 10 inclusive\\n')\n",
        "df_5To10_carbo"
      ],
      "metadata": {
        "id": "S8eJrfSTiLMz"
      },
      "execution_count": null,
      "outputs": []
    },
    {
      "cell_type": "markdown",
      "source": [
        "#**8.Create another dataframe containing the name, carbo, and sugar for cereals with 0 fat**"
      ],
      "metadata": {
        "id": "YscGCJ_wlsAY"
      }
    },
    {
      "cell_type": "code",
      "source": [
        "#method 1\n",
        "df_noFat1=pd.DataFrame(df.loc[df['fat']==0,['Cereal name','carbo','sugars']]) #locate all the rows with zero fat, and\n",
        "                                                                              #only select the cereal name,carbo and sugar columns\n",
        "                                                                              #df_noFat is created from the combinaton of these columns\n",
        "print('There are',len(df_noFat1),'records for cereal with 0 Fat content')\n",
        "df_noFat1.head(3)"
      ],
      "metadata": {
        "id": "PpdLM30wjoHc"
      },
      "execution_count": null,
      "outputs": []
    },
    {
      "cell_type": "markdown",
      "source": [
        "#**9.Change the name column supplier to distributor**"
      ],
      "metadata": {
        "id": "3BT-lK2Zl_3r"
      }
    },
    {
      "cell_type": "code",
      "source": [
        "df_rename= df.rename(columns={    # Create new df called df rename \n",
        "    'Supplier':'Distributor'      # change the the column name Supplier to Distributor\n",
        "})\n",
        "\n",
        "df_rename.head(10)                # Display only the first 10 rows    \n",
        "\n"
      ],
      "metadata": {
        "id": "1mMTXVznlDX4"
      },
      "execution_count": null,
      "outputs": []
    },
    {
      "cell_type": "markdown",
      "source": [
        "#**10.Create a scatter plot with 'calories' on the x-axis and 'carbo' on the y axis**"
      ],
      "metadata": {
        "id": "ARjY8IS8mIzJ"
      }
    },
    {
      "cell_type": "code",
      "source": [
        "df.plot(kind='scatter',x='calories',y='carbo',title='carbo VS calories')"
      ],
      "metadata": {
        "id": "EjPAq2XSJeIr"
      },
      "execution_count": null,
      "outputs": []
    },
    {
      "cell_type": "markdown",
      "source": [
        "#**11. Create a Bar Chart (barplot) with the distributors against the number of cereal that they distribute**"
      ],
      "metadata": {
        "id": "41SHgfSin2Rp"
      }
    },
    {
      "cell_type": "code",
      "source": [
        "df_rename['Distributor'].value_counts().plot(kind='bar', title='Distributor vs number of cereal',color='purple')"
      ],
      "metadata": {
        "id": "uXGBXX8vPzNH"
      },
      "execution_count": null,
      "outputs": []
    },
    {
      "cell_type": "markdown",
      "source": [
        "#**12.List the name of all objects found in the workspace**"
      ],
      "metadata": {
        "id": "wu1WWs2hocB3"
      }
    },
    {
      "cell_type": "code",
      "source": [
        "df.describe(include=object).columns"
      ],
      "metadata": {
        "colab": {
          "base_uri": "https://localhost:8080/"
        },
        "id": "QTCa_3fgnNnY",
        "outputId": "db53197b-a786-4f9a-a1df-dbeb600ad500"
      },
      "execution_count": null,
      "outputs": [
        {
          "output_type": "execute_result",
          "data": {
            "text/plain": [
              "Index(['Cereal name', 'Supplier', 'Cold or Hot'], dtype='object')"
            ]
          },
          "metadata": {},
          "execution_count": 64
        }
      ]
    },
    {
      "cell_type": "markdown",
      "source": [
        "\n",
        "#**13. Createa a vector called 'fat_amnt' with the data from the coloumn 'fat' and show :**\n",
        "1. minimum\n",
        "2. mean\n",
        "3. maximum\n",
        "**values**"
      ],
      "metadata": {
        "id": "65N41e1jom5j"
      }
    },
    {
      "cell_type": "code",
      "source": [
        "fat_amnt=df['fat'].to_numpy()\n",
        "print('1. Minimum amount of fat =',fat_amnt.min())\n",
        "print('2. Mean amount of fat =',fat_amnt.mean())\n",
        "print('3. Maximum amount of fat =',fat_amnt.max())"
      ],
      "metadata": {
        "id": "li_PuDlUn4ZJ"
      },
      "execution_count": null,
      "outputs": []
    },
    {
      "cell_type": "markdown",
      "source": [
        "#**14.Write a function that takes three inputs parameters : 'mintCalories','maxCalories',and 'range'. Assuming range is a vector of numerical ids, the fuction will iterrate the records print the row if the calories of the cereal falls in the range 'minCalories' to 'maxCalories'.** *you need to use for loops and if statements*"
      ],
      "metadata": {
        "id": "lJDeKJGbpDSL"
      }
    },
    {
      "cell_type": "code",
      "source": [
        "\n",
        "def getCalories(minCal,maxCal,_range):  #define the function\n",
        "  df_temp=pd.DataFrame()                #create temporary empty dataframe to store the row when we iterate through the rows\n",
        "  df_cummulative=pd.DataFrame()         #create empty dataframe to append the df_temp\n",
        "  for i in _range:                      #loop through the range or rows passed in the _range parameter\n",
        "    if((df.loc[i,'calories']>=minCal)&(df.loc[i,'calories']<=maxCal)): #conditional statements\n",
        "      df_temp=df.loc[i]                               #rows statisfied teh condition will be stored in the df_temp\n",
        "      df_cummulative= df_cummulative.append(df_temp)  #value in df_temp is then append to df_cummulative\n",
        "  return df_cummulative                               #eventually all the row that statisfy the condition will all be stored in the df_cummulative\n",
        "                                                      #df_cummulative will be return to the function call\n"
      ],
      "metadata": {
        "id": "fLlHd2yrmHR4"
      },
      "execution_count": 3,
      "outputs": []
    },
    {
      "cell_type": "code",
      "source": [
        "_range=pd.Series(range(0,len(df)))    # create a vector of numerical ids, between 0 to len(df)\n",
        "getCalories(0,50,_range[0:200])       # function getCalories is called\n",
        "                                     \n",
        "\n"
      ],
      "metadata": {
        "id": "mMxfZb6xsesi",
        "colab": {
          "base_uri": "https://localhost:8080/",
          "height": 142
        },
        "outputId": "7bb1e0d7-6f08-4098-ce9a-6cb62ffa4c1d"
      },
      "execution_count": 4,
      "outputs": [
        {
          "output_type": "execute_result",
          "data": {
            "text/html": [
              "\n",
              "  <div id=\"df-53697850-26b7-4056-b7c8-859f755a3273\">\n",
              "    <div class=\"colab-df-container\">\n",
              "      <div>\n",
              "<style scoped>\n",
              "    .dataframe tbody tr th:only-of-type {\n",
              "        vertical-align: middle;\n",
              "    }\n",
              "\n",
              "    .dataframe tbody tr th {\n",
              "        vertical-align: top;\n",
              "    }\n",
              "\n",
              "    .dataframe thead th {\n",
              "        text-align: right;\n",
              "    }\n",
              "</style>\n",
              "<table border=\"1\" class=\"dataframe\">\n",
              "  <thead>\n",
              "    <tr style=\"text-align: right;\">\n",
              "      <th></th>\n",
              "      <th>Cereal name</th>\n",
              "      <th>Supplier</th>\n",
              "      <th>Cold or Hot</th>\n",
              "      <th>calories</th>\n",
              "      <th>protein</th>\n",
              "      <th>fat</th>\n",
              "      <th>sodium</th>\n",
              "      <th>fiber</th>\n",
              "      <th>carbo</th>\n",
              "      <th>sugars</th>\n",
              "      <th>potass</th>\n",
              "      <th>vitamins</th>\n",
              "      <th>rating</th>\n",
              "    </tr>\n",
              "  </thead>\n",
              "  <tbody>\n",
              "    <tr>\n",
              "      <th>3</th>\n",
              "      <td>All-Bran_with_Extra_Fiber</td>\n",
              "      <td>K</td>\n",
              "      <td>C</td>\n",
              "      <td>50.0</td>\n",
              "      <td>4.0</td>\n",
              "      <td>0.0</td>\n",
              "      <td>140.0</td>\n",
              "      <td>14.0</td>\n",
              "      <td>8.0</td>\n",
              "      <td>0.0</td>\n",
              "      <td>330.0</td>\n",
              "      <td>25.0</td>\n",
              "      <td>93.704912</td>\n",
              "    </tr>\n",
              "    <tr>\n",
              "      <th>54</th>\n",
              "      <td>Puffed_Rice</td>\n",
              "      <td>Q</td>\n",
              "      <td>C</td>\n",
              "      <td>50.0</td>\n",
              "      <td>1.0</td>\n",
              "      <td>0.0</td>\n",
              "      <td>0.0</td>\n",
              "      <td>0.0</td>\n",
              "      <td>13.0</td>\n",
              "      <td>0.0</td>\n",
              "      <td>15.0</td>\n",
              "      <td>0.0</td>\n",
              "      <td>60.756112</td>\n",
              "    </tr>\n",
              "    <tr>\n",
              "      <th>55</th>\n",
              "      <td>Puffed_Wheat</td>\n",
              "      <td>Q</td>\n",
              "      <td>C</td>\n",
              "      <td>50.0</td>\n",
              "      <td>2.0</td>\n",
              "      <td>0.0</td>\n",
              "      <td>0.0</td>\n",
              "      <td>1.0</td>\n",
              "      <td>10.0</td>\n",
              "      <td>0.0</td>\n",
              "      <td>50.0</td>\n",
              "      <td>0.0</td>\n",
              "      <td>63.005645</td>\n",
              "    </tr>\n",
              "  </tbody>\n",
              "</table>\n",
              "</div>\n",
              "      <button class=\"colab-df-convert\" onclick=\"convertToInteractive('df-53697850-26b7-4056-b7c8-859f755a3273')\"\n",
              "              title=\"Convert this dataframe to an interactive table.\"\n",
              "              style=\"display:none;\">\n",
              "        \n",
              "  <svg xmlns=\"http://www.w3.org/2000/svg\" height=\"24px\"viewBox=\"0 0 24 24\"\n",
              "       width=\"24px\">\n",
              "    <path d=\"M0 0h24v24H0V0z\" fill=\"none\"/>\n",
              "    <path d=\"M18.56 5.44l.94 2.06.94-2.06 2.06-.94-2.06-.94-.94-2.06-.94 2.06-2.06.94zm-11 1L8.5 8.5l.94-2.06 2.06-.94-2.06-.94L8.5 2.5l-.94 2.06-2.06.94zm10 10l.94 2.06.94-2.06 2.06-.94-2.06-.94-.94-2.06-.94 2.06-2.06.94z\"/><path d=\"M17.41 7.96l-1.37-1.37c-.4-.4-.92-.59-1.43-.59-.52 0-1.04.2-1.43.59L10.3 9.45l-7.72 7.72c-.78.78-.78 2.05 0 2.83L4 21.41c.39.39.9.59 1.41.59.51 0 1.02-.2 1.41-.59l7.78-7.78 2.81-2.81c.8-.78.8-2.07 0-2.86zM5.41 20L4 18.59l7.72-7.72 1.47 1.35L5.41 20z\"/>\n",
              "  </svg>\n",
              "      </button>\n",
              "      \n",
              "  <style>\n",
              "    .colab-df-container {\n",
              "      display:flex;\n",
              "      flex-wrap:wrap;\n",
              "      gap: 12px;\n",
              "    }\n",
              "\n",
              "    .colab-df-convert {\n",
              "      background-color: #E8F0FE;\n",
              "      border: none;\n",
              "      border-radius: 50%;\n",
              "      cursor: pointer;\n",
              "      display: none;\n",
              "      fill: #1967D2;\n",
              "      height: 32px;\n",
              "      padding: 0 0 0 0;\n",
              "      width: 32px;\n",
              "    }\n",
              "\n",
              "    .colab-df-convert:hover {\n",
              "      background-color: #E2EBFA;\n",
              "      box-shadow: 0px 1px 2px rgba(60, 64, 67, 0.3), 0px 1px 3px 1px rgba(60, 64, 67, 0.15);\n",
              "      fill: #174EA6;\n",
              "    }\n",
              "\n",
              "    [theme=dark] .colab-df-convert {\n",
              "      background-color: #3B4455;\n",
              "      fill: #D2E3FC;\n",
              "    }\n",
              "\n",
              "    [theme=dark] .colab-df-convert:hover {\n",
              "      background-color: #434B5C;\n",
              "      box-shadow: 0px 1px 3px 1px rgba(0, 0, 0, 0.15);\n",
              "      filter: drop-shadow(0px 1px 2px rgba(0, 0, 0, 0.3));\n",
              "      fill: #FFFFFF;\n",
              "    }\n",
              "  </style>\n",
              "\n",
              "      <script>\n",
              "        const buttonEl =\n",
              "          document.querySelector('#df-53697850-26b7-4056-b7c8-859f755a3273 button.colab-df-convert');\n",
              "        buttonEl.style.display =\n",
              "          google.colab.kernel.accessAllowed ? 'block' : 'none';\n",
              "\n",
              "        async function convertToInteractive(key) {\n",
              "          const element = document.querySelector('#df-53697850-26b7-4056-b7c8-859f755a3273');\n",
              "          const dataTable =\n",
              "            await google.colab.kernel.invokeFunction('convertToInteractive',\n",
              "                                                     [key], {});\n",
              "          if (!dataTable) return;\n",
              "\n",
              "          const docLinkHtml = 'Like what you see? Visit the ' +\n",
              "            '<a target=\"_blank\" href=https://colab.research.google.com/notebooks/data_table.ipynb>data table notebook</a>'\n",
              "            + ' to learn more about interactive tables.';\n",
              "          element.innerHTML = '';\n",
              "          dataTable['output_type'] = 'display_data';\n",
              "          await google.colab.output.renderOutput(dataTable, element);\n",
              "          const docLink = document.createElement('div');\n",
              "          docLink.innerHTML = docLinkHtml;\n",
              "          element.appendChild(docLink);\n",
              "        }\n",
              "      </script>\n",
              "    </div>\n",
              "  </div>\n",
              "  "
            ],
            "text/plain": [
              "                  Cereal name Supplier Cold or Hot  ...  potass  vitamins     rating\n",
              "3   All-Bran_with_Extra_Fiber        K           C  ...   330.0      25.0  93.704912\n",
              "54                Puffed_Rice        Q           C  ...    15.0       0.0  60.756112\n",
              "55               Puffed_Wheat        Q           C  ...    50.0       0.0  63.005645\n",
              "\n",
              "[3 rows x 13 columns]"
            ]
          },
          "metadata": {},
          "execution_count": 4
        }
      ]
    },
    {
      "cell_type": "markdown",
      "source": [
        "#**15 Test the above function by making at least 10 diffferent function calls**"
      ],
      "metadata": {
        "id": "ec40BHP70fNk"
      }
    },
    {
      "cell_type": "code",
      "source": [
        "df.agg({                              # to check the max, min and median values of calories\n",
        "    'calories':['max','min','median']\n",
        "})"
      ],
      "metadata": {
        "id": "QMB_N4n4Ms2f",
        "colab": {
          "base_uri": "https://localhost:8080/",
          "height": 142
        },
        "outputId": "0d2b7fda-1bb3-481d-ee80-5ee3d0a0d8d8"
      },
      "execution_count": 5,
      "outputs": [
        {
          "output_type": "execute_result",
          "data": {
            "text/html": [
              "\n",
              "  <div id=\"df-99cb312b-77e5-4cfc-90cc-403b837b3114\">\n",
              "    <div class=\"colab-df-container\">\n",
              "      <div>\n",
              "<style scoped>\n",
              "    .dataframe tbody tr th:only-of-type {\n",
              "        vertical-align: middle;\n",
              "    }\n",
              "\n",
              "    .dataframe tbody tr th {\n",
              "        vertical-align: top;\n",
              "    }\n",
              "\n",
              "    .dataframe thead th {\n",
              "        text-align: right;\n",
              "    }\n",
              "</style>\n",
              "<table border=\"1\" class=\"dataframe\">\n",
              "  <thead>\n",
              "    <tr style=\"text-align: right;\">\n",
              "      <th></th>\n",
              "      <th>calories</th>\n",
              "    </tr>\n",
              "  </thead>\n",
              "  <tbody>\n",
              "    <tr>\n",
              "      <th>max</th>\n",
              "      <td>160.0</td>\n",
              "    </tr>\n",
              "    <tr>\n",
              "      <th>min</th>\n",
              "      <td>50.0</td>\n",
              "    </tr>\n",
              "    <tr>\n",
              "      <th>median</th>\n",
              "      <td>110.0</td>\n",
              "    </tr>\n",
              "  </tbody>\n",
              "</table>\n",
              "</div>\n",
              "      <button class=\"colab-df-convert\" onclick=\"convertToInteractive('df-99cb312b-77e5-4cfc-90cc-403b837b3114')\"\n",
              "              title=\"Convert this dataframe to an interactive table.\"\n",
              "              style=\"display:none;\">\n",
              "        \n",
              "  <svg xmlns=\"http://www.w3.org/2000/svg\" height=\"24px\"viewBox=\"0 0 24 24\"\n",
              "       width=\"24px\">\n",
              "    <path d=\"M0 0h24v24H0V0z\" fill=\"none\"/>\n",
              "    <path d=\"M18.56 5.44l.94 2.06.94-2.06 2.06-.94-2.06-.94-.94-2.06-.94 2.06-2.06.94zm-11 1L8.5 8.5l.94-2.06 2.06-.94-2.06-.94L8.5 2.5l-.94 2.06-2.06.94zm10 10l.94 2.06.94-2.06 2.06-.94-2.06-.94-.94-2.06-.94 2.06-2.06.94z\"/><path d=\"M17.41 7.96l-1.37-1.37c-.4-.4-.92-.59-1.43-.59-.52 0-1.04.2-1.43.59L10.3 9.45l-7.72 7.72c-.78.78-.78 2.05 0 2.83L4 21.41c.39.39.9.59 1.41.59.51 0 1.02-.2 1.41-.59l7.78-7.78 2.81-2.81c.8-.78.8-2.07 0-2.86zM5.41 20L4 18.59l7.72-7.72 1.47 1.35L5.41 20z\"/>\n",
              "  </svg>\n",
              "      </button>\n",
              "      \n",
              "  <style>\n",
              "    .colab-df-container {\n",
              "      display:flex;\n",
              "      flex-wrap:wrap;\n",
              "      gap: 12px;\n",
              "    }\n",
              "\n",
              "    .colab-df-convert {\n",
              "      background-color: #E8F0FE;\n",
              "      border: none;\n",
              "      border-radius: 50%;\n",
              "      cursor: pointer;\n",
              "      display: none;\n",
              "      fill: #1967D2;\n",
              "      height: 32px;\n",
              "      padding: 0 0 0 0;\n",
              "      width: 32px;\n",
              "    }\n",
              "\n",
              "    .colab-df-convert:hover {\n",
              "      background-color: #E2EBFA;\n",
              "      box-shadow: 0px 1px 2px rgba(60, 64, 67, 0.3), 0px 1px 3px 1px rgba(60, 64, 67, 0.15);\n",
              "      fill: #174EA6;\n",
              "    }\n",
              "\n",
              "    [theme=dark] .colab-df-convert {\n",
              "      background-color: #3B4455;\n",
              "      fill: #D2E3FC;\n",
              "    }\n",
              "\n",
              "    [theme=dark] .colab-df-convert:hover {\n",
              "      background-color: #434B5C;\n",
              "      box-shadow: 0px 1px 3px 1px rgba(0, 0, 0, 0.15);\n",
              "      filter: drop-shadow(0px 1px 2px rgba(0, 0, 0, 0.3));\n",
              "      fill: #FFFFFF;\n",
              "    }\n",
              "  </style>\n",
              "\n",
              "      <script>\n",
              "        const buttonEl =\n",
              "          document.querySelector('#df-99cb312b-77e5-4cfc-90cc-403b837b3114 button.colab-df-convert');\n",
              "        buttonEl.style.display =\n",
              "          google.colab.kernel.accessAllowed ? 'block' : 'none';\n",
              "\n",
              "        async function convertToInteractive(key) {\n",
              "          const element = document.querySelector('#df-99cb312b-77e5-4cfc-90cc-403b837b3114');\n",
              "          const dataTable =\n",
              "            await google.colab.kernel.invokeFunction('convertToInteractive',\n",
              "                                                     [key], {});\n",
              "          if (!dataTable) return;\n",
              "\n",
              "          const docLinkHtml = 'Like what you see? Visit the ' +\n",
              "            '<a target=\"_blank\" href=https://colab.research.google.com/notebooks/data_table.ipynb>data table notebook</a>'\n",
              "            + ' to learn more about interactive tables.';\n",
              "          element.innerHTML = '';\n",
              "          dataTable['output_type'] = 'display_data';\n",
              "          await google.colab.output.renderOutput(dataTable, element);\n",
              "          const docLink = document.createElement('div');\n",
              "          docLink.innerHTML = docLinkHtml;\n",
              "          element.appendChild(docLink);\n",
              "        }\n",
              "      </script>\n",
              "    </div>\n",
              "  </div>\n",
              "  "
            ],
            "text/plain": [
              "        calories\n",
              "max        160.0\n",
              "min         50.0\n",
              "median     110.0"
            ]
          },
          "metadata": {},
          "execution_count": 5
        }
      ]
    },
    {
      "cell_type": "code",
      "source": [
        "import random                                       #importing random library\n",
        "import math\n",
        "number_of_call=0                                    #initialise the number of call \n",
        "call=0                                              #and call to zero\n",
        "while number_of_call<10:                            #loop then times\n",
        "  minCal=random.randint(0,df['calories'].median())                     #generating random number between 0 the median value in calories\n",
        "  maxCal=random.randint(df['calories'].median(),df['calories'].max())  #generating random number between median and max in calories\n",
        "  startRange = random.randint(0,math.floor(len(df)/2))                 # generating a random number for the start of the range\n",
        "  endRange = random.randint(math.floor(len(df)/2),len(df))             # generating a random number for the end of the range\n",
        "    \n",
        "  print(call+1,'function call')                                                                        #printing the number of call been made to the scree\n",
        "  print('minCalories =',minCal,'|','MaxCalories =',maxCal,'|','_range :',startRange,'to',endRange)     #printing the generated mincal,maxcal and range to the screen\n",
        "  result=getCalories(minCal,maxCal,_range[startRange:endRange+1])[['Cereal name','Supplier','calories']] #get only the cereal name, supplier a dn coloriws column and store the output into result\n",
        "  print(len(result),'rows is selected')             #get the number of rows                               wnd range+1 because we want to also include the end of the range number into _range\n",
        "  print(result)                                     #print the result with the selected rows to the screen\n",
        "                                                                                             \n",
        "  number_of_call+=1                                 #increase the number_of_call\n",
        "  call+=1                                           # and call variable by one for every call\n",
        "  print('\\n\\n\\n')                                   # create spaces between every table print\n",
        "\n"
      ],
      "metadata": {
        "id": "9o_tps_MH-ao",
        "colab": {
          "base_uri": "https://localhost:8080/"
        },
        "outputId": "962e130d-79a6-498f-95ec-d539623179e4"
      },
      "execution_count": 6,
      "outputs": [
        {
          "output_type": "stream",
          "name": "stdout",
          "text": [
            "1 function call\n",
            "minCalories = 1 | MaxCalories = 151 | _range : 37 to 46\n",
            "9 rows is selected\n",
            "                          Cereal name Supplier  calories\n",
            "37                         Honey-comb        P     110.0\n",
            "38        Just_Right_Crunchy__Nuggets        K     110.0\n",
            "39             Just_Right_Fruit_&_Nut        K     140.0\n",
            "40                                Kix        G     110.0\n",
            "41                               Life        Q     100.0\n",
            "42                       Lucky_Charms        G     110.0\n",
            "43                              Maypo        A     100.0\n",
            "44   Muesli_Raisins,_Dates,_&_Almonds        R     150.0\n",
            "45  Muesli_Raisins,_Peaches,_&_Pecans        R     150.0\n",
            "\n",
            "\n",
            "\n",
            "\n",
            "2 function call\n",
            "minCalories = 100 | MaxCalories = 152 | _range : 21 to 50\n",
            "28 rows is selected\n",
            "                               Cereal name Supplier  calories\n",
            "21                                 Crispix        K     110.0\n",
            "22                  Crispy_Wheat_&_Raisins        G     100.0\n",
            "23                             Double_Chex        R     100.0\n",
            "24                             Froot_Loops        K     110.0\n",
            "25                          Frosted_Flakes        K     110.0\n",
            "26                     Frosted_Mini-Wheats        K     100.0\n",
            "27  Fruit_&_Fibre_Dates,_Walnuts,_and_Oats        P     120.0\n",
            "28                           Fruitful_Bran        K     120.0\n",
            "29                          Fruity_Pebbles        P     110.0\n",
            "30                            Golden_Crisp        P     100.0\n",
            "31                          Golden_Grahams        G     110.0\n",
            "32                       Grape_Nuts_Flakes        P     100.0\n",
            "33                              Grape-Nuts        P     110.0\n",
            "34                      Great_Grains_Pecan        P     120.0\n",
            "35                        Honey_Graham_Ohs        Q     120.0\n",
            "36                      Honey_Nut_Cheerios        G     110.0\n",
            "37                              Honey-comb        P     110.0\n",
            "38             Just_Right_Crunchy__Nuggets        K     110.0\n",
            "39                  Just_Right_Fruit_&_Nut        K     140.0\n",
            "40                                     Kix        G     110.0\n",
            "41                                    Life        Q     100.0\n",
            "42                            Lucky_Charms        G     110.0\n",
            "43                                   Maypo        A     100.0\n",
            "44        Muesli_Raisins,_Dates,_&_Almonds        R     150.0\n",
            "45       Muesli_Raisins,_Peaches,_&_Pecans        R     150.0\n",
            "47                    Multi-Grain_Cheerios        G     100.0\n",
            "48                        Nut&Honey_Crunch        K     120.0\n",
            "49               Nutri-Grain_Almond-Raisin        K     140.0\n",
            "\n",
            "\n",
            "\n",
            "\n",
            "3 function call\n",
            "minCalories = 58 | MaxCalories = 111 | _range : 25 to 65\n",
            "26 rows is selected\n",
            "                    Cereal name Supplier  calories\n",
            "25               Frosted_Flakes        K     110.0\n",
            "26          Frosted_Mini-Wheats        K     100.0\n",
            "29               Fruity_Pebbles        P     110.0\n",
            "30                 Golden_Crisp        P     100.0\n",
            "31               Golden_Grahams        G     110.0\n",
            "32            Grape_Nuts_Flakes        P     100.0\n",
            "33                   Grape-Nuts        P     110.0\n",
            "36           Honey_Nut_Cheerios        G     110.0\n",
            "37                   Honey-comb        P     110.0\n",
            "38  Just_Right_Crunchy__Nuggets        K     110.0\n",
            "40                          Kix        G     110.0\n",
            "41                         Life        Q     100.0\n",
            "42                 Lucky_Charms        G     110.0\n",
            "43                        Maypo        A     100.0\n",
            "47         Multi-Grain_Cheerios        G     100.0\n",
            "50            Nutri-grain_Wheat        K      90.0\n",
            "53                   Product_19        K     100.0\n",
            "56           Quaker_Oat_Squares        Q     100.0\n",
            "57               Quaker_Oatmeal        Q     100.0\n",
            "59              Raisin_Nut_Bran        G     100.0\n",
            "60               Raisin_Squares        K      90.0\n",
            "61                    Rice_Chex        R     110.0\n",
            "62                Rice_Krispies        K     110.0\n",
            "63               Shredded_Wheat        N      80.0\n",
            "64       Shredded_Wheat_'n'Bran        N      90.0\n",
            "65    Shredded_Wheat_spoon_size        N      90.0\n",
            "\n",
            "\n",
            "\n",
            "\n",
            "4 function call\n",
            "minCalories = 20 | MaxCalories = 128 | _range : 11 to 62\n",
            "46 rows is selected\n",
            "                               Cereal name Supplier  calories\n",
            "11                                Cheerios        G     110.0\n",
            "12                   Cinnamon_Toast_Crunch        G     120.0\n",
            "13                                Clusters        G     110.0\n",
            "14                             Cocoa_Puffs        G     110.0\n",
            "15                               Corn_Chex        R     110.0\n",
            "16                             Corn_Flakes        K     100.0\n",
            "17                               Corn_Pops        K     110.0\n",
            "18                           Count_Chocula        G     110.0\n",
            "19                      Cracklin'_Oat_Bran        K     110.0\n",
            "20                  Cream_of_Wheat_(Quick)        N     100.0\n",
            "21                                 Crispix        K     110.0\n",
            "22                  Crispy_Wheat_&_Raisins        G     100.0\n",
            "23                             Double_Chex        R     100.0\n",
            "24                             Froot_Loops        K     110.0\n",
            "25                          Frosted_Flakes        K     110.0\n",
            "26                     Frosted_Mini-Wheats        K     100.0\n",
            "27  Fruit_&_Fibre_Dates,_Walnuts,_and_Oats        P     120.0\n",
            "28                           Fruitful_Bran        K     120.0\n",
            "29                          Fruity_Pebbles        P     110.0\n",
            "30                            Golden_Crisp        P     100.0\n",
            "31                          Golden_Grahams        G     110.0\n",
            "32                       Grape_Nuts_Flakes        P     100.0\n",
            "33                              Grape-Nuts        P     110.0\n",
            "34                      Great_Grains_Pecan        P     120.0\n",
            "35                        Honey_Graham_Ohs        Q     120.0\n",
            "36                      Honey_Nut_Cheerios        G     110.0\n",
            "37                              Honey-comb        P     110.0\n",
            "38             Just_Right_Crunchy__Nuggets        K     110.0\n",
            "40                                     Kix        G     110.0\n",
            "41                                    Life        Q     100.0\n",
            "42                            Lucky_Charms        G     110.0\n",
            "43                                   Maypo        A     100.0\n",
            "47                    Multi-Grain_Cheerios        G     100.0\n",
            "48                        Nut&Honey_Crunch        K     120.0\n",
            "50                       Nutri-grain_Wheat        K      90.0\n",
            "52                   Post_Nat._Raisin_Bran        P     120.0\n",
            "53                              Product_19        K     100.0\n",
            "54                             Puffed_Rice        Q      50.0\n",
            "55                            Puffed_Wheat        Q      50.0\n",
            "56                      Quaker_Oat_Squares        Q     100.0\n",
            "57                          Quaker_Oatmeal        Q     100.0\n",
            "58                             Raisin_Bran        K     120.0\n",
            "59                         Raisin_Nut_Bran        G     100.0\n",
            "60                          Raisin_Squares        K      90.0\n",
            "61                               Rice_Chex        R     110.0\n",
            "62                           Rice_Krispies        K     110.0\n",
            "\n",
            "\n",
            "\n",
            "\n",
            "5 function call\n",
            "minCalories = 12 | MaxCalories = 146 | _range : 14 to 52\n",
            "36 rows is selected\n",
            "                               Cereal name Supplier  calories\n",
            "14                             Cocoa_Puffs        G     110.0\n",
            "15                               Corn_Chex        R     110.0\n",
            "16                             Corn_Flakes        K     100.0\n",
            "17                               Corn_Pops        K     110.0\n",
            "18                           Count_Chocula        G     110.0\n",
            "19                      Cracklin'_Oat_Bran        K     110.0\n",
            "20                  Cream_of_Wheat_(Quick)        N     100.0\n",
            "21                                 Crispix        K     110.0\n",
            "22                  Crispy_Wheat_&_Raisins        G     100.0\n",
            "23                             Double_Chex        R     100.0\n",
            "24                             Froot_Loops        K     110.0\n",
            "25                          Frosted_Flakes        K     110.0\n",
            "26                     Frosted_Mini-Wheats        K     100.0\n",
            "27  Fruit_&_Fibre_Dates,_Walnuts,_and_Oats        P     120.0\n",
            "28                           Fruitful_Bran        K     120.0\n",
            "29                          Fruity_Pebbles        P     110.0\n",
            "30                            Golden_Crisp        P     100.0\n",
            "31                          Golden_Grahams        G     110.0\n",
            "32                       Grape_Nuts_Flakes        P     100.0\n",
            "33                              Grape-Nuts        P     110.0\n",
            "34                      Great_Grains_Pecan        P     120.0\n",
            "35                        Honey_Graham_Ohs        Q     120.0\n",
            "36                      Honey_Nut_Cheerios        G     110.0\n",
            "37                              Honey-comb        P     110.0\n",
            "38             Just_Right_Crunchy__Nuggets        K     110.0\n",
            "39                  Just_Right_Fruit_&_Nut        K     140.0\n",
            "40                                     Kix        G     110.0\n",
            "41                                    Life        Q     100.0\n",
            "42                            Lucky_Charms        G     110.0\n",
            "43                                   Maypo        A     100.0\n",
            "47                    Multi-Grain_Cheerios        G     100.0\n",
            "48                        Nut&Honey_Crunch        K     120.0\n",
            "49               Nutri-Grain_Almond-Raisin        K     140.0\n",
            "50                       Nutri-grain_Wheat        K      90.0\n",
            "51                    Oatmeal_Raisin_Crisp        G     130.0\n",
            "52                   Post_Nat._Raisin_Bran        P     120.0\n",
            "\n",
            "\n",
            "\n",
            "\n",
            "6 function call\n",
            "minCalories = 102 | MaxCalories = 119 | _range : 4 to 40\n",
            "20 rows is selected\n",
            "                    Cereal name Supplier  calories\n",
            "4                Almond_Delight        R     110.0\n",
            "5       Apple_Cinnamon_Cheerios        G     110.0\n",
            "6                   Apple_Jacks        K     110.0\n",
            "11                     Cheerios        G     110.0\n",
            "13                     Clusters        G     110.0\n",
            "14                  Cocoa_Puffs        G     110.0\n",
            "15                    Corn_Chex        R     110.0\n",
            "17                    Corn_Pops        K     110.0\n",
            "18                Count_Chocula        G     110.0\n",
            "19           Cracklin'_Oat_Bran        K     110.0\n",
            "21                      Crispix        K     110.0\n",
            "24                  Froot_Loops        K     110.0\n",
            "25               Frosted_Flakes        K     110.0\n",
            "29               Fruity_Pebbles        P     110.0\n",
            "31               Golden_Grahams        G     110.0\n",
            "33                   Grape-Nuts        P     110.0\n",
            "36           Honey_Nut_Cheerios        G     110.0\n",
            "37                   Honey-comb        P     110.0\n",
            "38  Just_Right_Crunchy__Nuggets        K     110.0\n",
            "40                          Kix        G     110.0\n",
            "\n",
            "\n",
            "\n",
            "\n",
            "7 function call\n",
            "minCalories = 65 | MaxCalories = 131 | _range : 15 to 73\n",
            "51 rows is selected\n",
            "                               Cereal name Supplier  calories\n",
            "15                               Corn_Chex        R     110.0\n",
            "16                             Corn_Flakes        K     100.0\n",
            "17                               Corn_Pops        K     110.0\n",
            "18                           Count_Chocula        G     110.0\n",
            "19                      Cracklin'_Oat_Bran        K     110.0\n",
            "20                  Cream_of_Wheat_(Quick)        N     100.0\n",
            "21                                 Crispix        K     110.0\n",
            "22                  Crispy_Wheat_&_Raisins        G     100.0\n",
            "23                             Double_Chex        R     100.0\n",
            "24                             Froot_Loops        K     110.0\n",
            "25                          Frosted_Flakes        K     110.0\n",
            "26                     Frosted_Mini-Wheats        K     100.0\n",
            "27  Fruit_&_Fibre_Dates,_Walnuts,_and_Oats        P     120.0\n",
            "28                           Fruitful_Bran        K     120.0\n",
            "29                          Fruity_Pebbles        P     110.0\n",
            "30                            Golden_Crisp        P     100.0\n",
            "31                          Golden_Grahams        G     110.0\n",
            "32                       Grape_Nuts_Flakes        P     100.0\n",
            "33                              Grape-Nuts        P     110.0\n",
            "34                      Great_Grains_Pecan        P     120.0\n",
            "35                        Honey_Graham_Ohs        Q     120.0\n",
            "36                      Honey_Nut_Cheerios        G     110.0\n",
            "37                              Honey-comb        P     110.0\n",
            "38             Just_Right_Crunchy__Nuggets        K     110.0\n",
            "40                                     Kix        G     110.0\n",
            "41                                    Life        Q     100.0\n",
            "42                            Lucky_Charms        G     110.0\n",
            "43                                   Maypo        A     100.0\n",
            "47                    Multi-Grain_Cheerios        G     100.0\n",
            "48                        Nut&Honey_Crunch        K     120.0\n",
            "50                       Nutri-grain_Wheat        K      90.0\n",
            "51                    Oatmeal_Raisin_Crisp        G     130.0\n",
            "52                   Post_Nat._Raisin_Bran        P     120.0\n",
            "53                              Product_19        K     100.0\n",
            "56                      Quaker_Oat_Squares        Q     100.0\n",
            "57                          Quaker_Oatmeal        Q     100.0\n",
            "58                             Raisin_Bran        K     120.0\n",
            "59                         Raisin_Nut_Bran        G     100.0\n",
            "60                          Raisin_Squares        K      90.0\n",
            "61                               Rice_Chex        R     110.0\n",
            "62                           Rice_Krispies        K     110.0\n",
            "63                          Shredded_Wheat        N      80.0\n",
            "64                  Shredded_Wheat_'n'Bran        N      90.0\n",
            "65               Shredded_Wheat_spoon_size        N      90.0\n",
            "66                                  Smacks        K     110.0\n",
            "67                               Special_K        K     110.0\n",
            "68                 Strawberry_Fruit_Wheats        N      90.0\n",
            "69                       Total_Corn_Flakes        G     110.0\n",
            "71                       Total_Whole_Grain        G     100.0\n",
            "72                                 Triples        G     110.0\n",
            "73                                    Trix        G     110.0\n",
            "\n",
            "\n",
            "\n",
            "\n",
            "8 function call\n",
            "minCalories = 28 | MaxCalories = 111 | _range : 26 to 43\n",
            "13 rows is selected\n",
            "                    Cereal name Supplier  calories\n",
            "26          Frosted_Mini-Wheats        K     100.0\n",
            "29               Fruity_Pebbles        P     110.0\n",
            "30                 Golden_Crisp        P     100.0\n",
            "31               Golden_Grahams        G     110.0\n",
            "32            Grape_Nuts_Flakes        P     100.0\n",
            "33                   Grape-Nuts        P     110.0\n",
            "36           Honey_Nut_Cheerios        G     110.0\n",
            "37                   Honey-comb        P     110.0\n",
            "38  Just_Right_Crunchy__Nuggets        K     110.0\n",
            "40                          Kix        G     110.0\n",
            "41                         Life        Q     100.0\n",
            "42                 Lucky_Charms        G     110.0\n",
            "43                        Maypo        A     100.0\n",
            "\n",
            "\n",
            "\n",
            "\n",
            "9 function call\n",
            "minCalories = 72 | MaxCalories = 158 | _range : 10 to 49\n",
            "39 rows is selected\n",
            "                               Cereal name Supplier  calories\n",
            "10                            Cap'n'Crunch        Q     120.0\n",
            "11                                Cheerios        G     110.0\n",
            "12                   Cinnamon_Toast_Crunch        G     120.0\n",
            "13                                Clusters        G     110.0\n",
            "14                             Cocoa_Puffs        G     110.0\n",
            "15                               Corn_Chex        R     110.0\n",
            "16                             Corn_Flakes        K     100.0\n",
            "17                               Corn_Pops        K     110.0\n",
            "18                           Count_Chocula        G     110.0\n",
            "19                      Cracklin'_Oat_Bran        K     110.0\n",
            "20                  Cream_of_Wheat_(Quick)        N     100.0\n",
            "21                                 Crispix        K     110.0\n",
            "22                  Crispy_Wheat_&_Raisins        G     100.0\n",
            "23                             Double_Chex        R     100.0\n",
            "24                             Froot_Loops        K     110.0\n",
            "25                          Frosted_Flakes        K     110.0\n",
            "26                     Frosted_Mini-Wheats        K     100.0\n",
            "27  Fruit_&_Fibre_Dates,_Walnuts,_and_Oats        P     120.0\n",
            "28                           Fruitful_Bran        K     120.0\n",
            "29                          Fruity_Pebbles        P     110.0\n",
            "30                            Golden_Crisp        P     100.0\n",
            "31                          Golden_Grahams        G     110.0\n",
            "32                       Grape_Nuts_Flakes        P     100.0\n",
            "33                              Grape-Nuts        P     110.0\n",
            "34                      Great_Grains_Pecan        P     120.0\n",
            "35                        Honey_Graham_Ohs        Q     120.0\n",
            "36                      Honey_Nut_Cheerios        G     110.0\n",
            "37                              Honey-comb        P     110.0\n",
            "38             Just_Right_Crunchy__Nuggets        K     110.0\n",
            "39                  Just_Right_Fruit_&_Nut        K     140.0\n",
            "40                                     Kix        G     110.0\n",
            "41                                    Life        Q     100.0\n",
            "42                            Lucky_Charms        G     110.0\n",
            "43                                   Maypo        A     100.0\n",
            "44        Muesli_Raisins,_Dates,_&_Almonds        R     150.0\n",
            "45       Muesli_Raisins,_Peaches,_&_Pecans        R     150.0\n",
            "47                    Multi-Grain_Cheerios        G     100.0\n",
            "48                        Nut&Honey_Crunch        K     120.0\n",
            "49               Nutri-Grain_Almond-Raisin        K     140.0\n",
            "\n",
            "\n",
            "\n",
            "\n",
            "10 function call\n",
            "minCalories = 30 | MaxCalories = 139 | _range : 22 to 49\n",
            "23 rows is selected\n",
            "                               Cereal name Supplier  calories\n",
            "22                  Crispy_Wheat_&_Raisins        G     100.0\n",
            "23                             Double_Chex        R     100.0\n",
            "24                             Froot_Loops        K     110.0\n",
            "25                          Frosted_Flakes        K     110.0\n",
            "26                     Frosted_Mini-Wheats        K     100.0\n",
            "27  Fruit_&_Fibre_Dates,_Walnuts,_and_Oats        P     120.0\n",
            "28                           Fruitful_Bran        K     120.0\n",
            "29                          Fruity_Pebbles        P     110.0\n",
            "30                            Golden_Crisp        P     100.0\n",
            "31                          Golden_Grahams        G     110.0\n",
            "32                       Grape_Nuts_Flakes        P     100.0\n",
            "33                              Grape-Nuts        P     110.0\n",
            "34                      Great_Grains_Pecan        P     120.0\n",
            "35                        Honey_Graham_Ohs        Q     120.0\n",
            "36                      Honey_Nut_Cheerios        G     110.0\n",
            "37                              Honey-comb        P     110.0\n",
            "38             Just_Right_Crunchy__Nuggets        K     110.0\n",
            "40                                     Kix        G     110.0\n",
            "41                                    Life        Q     100.0\n",
            "42                            Lucky_Charms        G     110.0\n",
            "43                                   Maypo        A     100.0\n",
            "47                    Multi-Grain_Cheerios        G     100.0\n",
            "48                        Nut&Honey_Crunch        K     120.0\n",
            "\n",
            "\n",
            "\n",
            "\n"
          ]
        }
      ]
    }
  ]
}